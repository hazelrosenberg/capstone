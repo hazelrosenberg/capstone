{
 "cells": [
  {
   "cell_type": "code",
   "execution_count": 8,
   "metadata": {},
   "outputs": [],
   "source": [
    "import os\n",
    "import pandas as pd"
   ]
  },
  {
   "cell_type": "code",
   "execution_count": 21,
   "metadata": {},
   "outputs": [],
   "source": [
    "# Function to break large ACS csv file into sections\n",
    "def create_tables(path, file, folder):\n",
    "    # Read in CSV file\n",
    "    df = pd.read_csv(os.path.join(path, file))\n",
    "\n",
    "    # Rename columns\n",
    "    df.rename(columns={'Label (Grouping)': 'Label', 'Cook County, Illinois!!Filipino alone or in any combination!!Estimate': 'Estimate', 'Cook County, Illinois!!Filipino alone or in any combination!!Margin of Error': 'Margin of Error', 'Cook County, Illinois!!Filipino alone or in any combination (420-421) and (100-299) or (300, A01-Z99) or (400-999)!!Estimate': 'Estimate', 'Cook County, Illinois!!Filipino alone or in any combination (420-421) and (100-299) or (300, A01-Z99) or (400-999)!!Margin of Error': 'Margin of Error', \"Cook County, Illinois!!Filipino alone or in any combination (420-421) & (100-299) or (300, A01-Z99) or (400-999)!!Estimate\": 'Estimate',\"Cook County, Illinois!!Filipino alone or in any combination (420-421) & (100-299) or (300, A01-Z99) or (400-999)!!Margin of Error\": 'Margin of Error'}, inplace=True)\n",
    "\n",
    "    # Create list of section headings\n",
    "    tables = [title for title in df['Label'] if title.isupper()]\n",
    "\n",
    "    # Construct path for new folder to save to\n",
    "    new_folder_path = os.path.join(path, folder)\n",
    "\n",
    "    try:\n",
    "        # Create new folder if it doesn't exist\n",
    "        os.makedirs(new_folder_path)\n",
    "\n",
    "    except FileExistsError:\n",
    "        print(f\"Folder '{folder}' already exists at '{path}'\")\n",
    "\n",
    "    # Loop through section headings and create new CSV files for each section\n",
    "    for i in range(len(tables)):\n",
    "        # Initialize title\n",
    "        title = tables[i]\n",
    "\n",
    "        # Set lower limit to title index\n",
    "        lower = df[df['Label'] == title].index[0]\n",
    "\n",
    "        # Reformat title\n",
    "        table_title = title.replace(' ', '_')\n",
    "        table_title_final = ''.join(char if char.isalnum() or char == '_' else '' for char in table_title)\n",
    "\n",
    "        try:\n",
    "            # Initialize next title\n",
    "            next_title = tables[i + 1]\n",
    "\n",
    "            # Set upper limit to next title's index\n",
    "            upper = df[df['Label'] == next_title].index[0]\n",
    "\n",
    "            # Create new dataframe with only rows between current and next title\n",
    "            new_df = df.iloc[lower + 1:upper]\n",
    "\n",
    "        except IndexError:\n",
    "            # Create new dataframe with only rows after current title (if there is no next title, i.e. current title is last in list)\n",
    "            new_df = df.iloc[lower + 1:]\n",
    "\n",
    "        # Construct filepath to save to\n",
    "        full_file_path = os.path.join(new_folder_path, table_title_final + '.CSV')\n",
    "\n",
    "        # Save new dataframe to CSV file\n",
    "        new_df.to_csv(full_file_path, index=False)"
   ]
  },
  {
   "cell_type": "code",
   "execution_count": 22,
   "metadata": {},
   "outputs": [
    {
     "name": "stdout",
     "output_type": "stream",
     "text": [
      "No file for year '2020'\n"
     ]
    }
   ],
   "source": [
    "for year in range(2010,2023):\n",
    "    path = 'data/'\n",
    "    file = 'ACSSPP1Y'+str(year)+'.S0201.csv'\n",
    "    folder = str(year)\n",
    "\n",
    "    try:\n",
    "        create_tables(path,file,folder)\n",
    "    except:\n",
    "        print(f\"No file for year '{folder}'\")"
   ]
  },
  {
   "cell_type": "code",
   "execution_count": null,
   "metadata": {},
   "outputs": [],
   "source": []
  }
 ],
 "metadata": {
  "kernelspec": {
   "display_name": "Python 3",
   "language": "python",
   "name": "python3"
  },
  "language_info": {
   "codemirror_mode": {
    "name": "ipython",
    "version": 3
   },
   "file_extension": ".py",
   "mimetype": "text/x-python",
   "name": "python",
   "nbconvert_exporter": "python",
   "pygments_lexer": "ipython3",
   "version": "3.11.5"
  }
 },
 "nbformat": 4,
 "nbformat_minor": 2
}
