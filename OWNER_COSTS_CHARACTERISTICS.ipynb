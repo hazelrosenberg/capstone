{
 "cells": [
  {
   "cell_type": "code",
   "execution_count": 1,
   "metadata": {},
   "outputs": [],
   "source": [
    "import pandas as pd\n",
    "import warnings\n",
    "warnings.filterwarnings('ignore')"
   ]
  },
  {
   "cell_type": "code",
   "execution_count": null,
   "metadata": {},
   "outputs": [],
   "source": [
    "data/2022/SELECTED_MONTHLY_OWNER_COSTS_AS_A_PERCENTAGE_OF_HOUSEHOLD_INCOME_IN_THE_PAST_12_MONTHS.CSV\n",
    "data/2022/OWNER_CHARACTERISTICS.CSV"
   ]
  },
  {
   "cell_type": "code",
   "execution_count": null,
   "metadata": {},
   "outputs": [],
   "source": [
    "def owner(file1,file2,year):\n",
    "    # Read in files\n",
    "    gr = pd.read_csv(file1)\n",
    "    grapi = pd.read_csv(file2)\n",
    "\n",
    "    return df"
   ]
  },
  {
   "cell_type": "code",
   "execution_count": null,
   "metadata": {},
   "outputs": [],
   "source": [
    "def owner(file1,file2,year):\n",
    "    # Read in files\n",
    "    gr = pd.read_csv(file1)\n",
    "    grapi = pd.read_csv(file2)\n",
    "\n",
    "\n",
    "\n",
    "\n",
    "\n",
    "\n",
    "\n",
    "\n",
    "    # Get rid of spaces in Labels\n",
    "    gr['Label'] = gr['Label'].apply(lambda x: x.lstrip())\n",
    "    grapi['Label'] = grapi['Label'].apply(lambda x: x.lstrip())\n",
    "\n",
    "    # Convert estimates to float\n",
    "    gr['Estimate'] = gr['Estimate'].apply(lambda x: float(x.replace(',','')))\n",
    "    grapi['Percentage'] = grapi['Estimate'].apply(lambda x: float(x.rstrip('%'))/100 if '%' in x else None)\n",
    "\n",
    "    # Move Total Occupied Units Paying Rent from row to column\n",
    "    grapi['Total Occupied Units Paying Rent (GRAPI)'] = int(grapi.iloc[0]['Estimate'].replace(',',''))\n",
    "    grapi.dropna(inplace=True)\n",
    "\n",
    "    # Drop unnecessary columns/rows\n",
    "    grapi.drop(columns=['Estimate','Margin of Error'], inplace=True)\n",
    "    gr.drop(columns=['Margin of Error'], inplace=True)\n",
    "\n",
    "    # Calculate population estimates\n",
    "    grapi['Population Estimate'] = grapi['Percentage']*grapi['Total Occupied Units Paying Rent (GRAPI)']\n",
    "\n",
    "    # Drop unnecessary columns\n",
    "    grapi.drop(columns=['Percentage','Total Occupied Units Paying Rent (GRAPI)'], inplace=True)\n",
    "\n",
    "    # Change index and transpose tables\n",
    "    gr.set_index('Label', inplace=True)\n",
    "    gr = gr.T\n",
    "    grapi.set_index('Label', inplace=True)\n",
    "    grapi = grapi.T\n",
    "\n",
    "    # Change index to year\n",
    "    gr.index = [year]\n",
    "    grapi.index = [year]\n",
    "\n",
    "    # Merge dataframes\n",
    "    df = gr.merge(grapi, left_index=True, right_index=True)\n",
    "\n",
    "    # Rearrange columns\n",
    "    df = df[['Median gross rent (dollars)','Less than 30 percent','30 percent or more','Occupied units paying rent']]\n",
    "\n",
    "    # Rename columns\n",
    "    df = df.rename(columns={'Less than 30 percent': 'Households paying rent less than 30 percent of household income', '30 percent or more': 'Households paying rent 30 percent or more of household income', 'Occupied units paying rent': 'Total Occupied Units Paying Rent'})\n",
    "\n",
    "    return df"
   ]
  }
 ],
 "metadata": {
  "kernelspec": {
   "display_name": "Python 3",
   "language": "python",
   "name": "python3"
  },
  "language_info": {
   "codemirror_mode": {
    "name": "ipython",
    "version": 3
   },
   "file_extension": ".py",
   "mimetype": "text/x-python",
   "name": "python",
   "nbconvert_exporter": "python",
   "pygments_lexer": "ipython3",
   "version": "3.11.5"
  }
 },
 "nbformat": 4,
 "nbformat_minor": 2
}
