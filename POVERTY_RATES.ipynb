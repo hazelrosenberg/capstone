{
 "cells": [
  {
   "cell_type": "code",
   "execution_count": 2,
   "metadata": {},
   "outputs": [],
   "source": [
    "import pandas as pd\n",
    "import warnings\n",
    "warnings.filterwarnings('ignore')"
   ]
  },
  {
   "cell_type": "code",
   "execution_count": 14,
   "metadata": {},
   "outputs": [],
   "source": [
    "def poverty_rates(file_poverty_rates,file_households_by_type,year):\n",
    "    # Read in file\n",
    "    df = pd.read_csv(file_poverty_rates)\n",
    "    df_households = pd.read_csv(file_households_by_type)\n",
    "\n",
    "    # Get rid of spaces in Labels\n",
    "    df['Label'] = df['Label'].apply(lambda x: x.lstrip())\n",
    "\n",
    "    # Convert percentage estimates to float\n",
    "    df['Percentage'] = df['Estimate'].apply(lambda x: float(x.rstrip('%'))/100 if '%' in x else None)\n",
    "\n",
    "    # Move Total Household Population from row to column\n",
    "    df['Total Household Population'] = int(df_households.iloc[0]['Estimate'].replace(',',''))\n",
    "    df.dropna(inplace=True)\n",
    "\n",
    "    # Drop unnecessary columns\n",
    "    df.drop(columns=['Estimate','Margin of Error'], inplace=True)\n",
    "\n",
    "    # Calculate population estimates\n",
    "    df['Population Estimate'] = df['Percentage']*df['Total Household Population']\n",
    "\n",
    "    # Drop unnecessary columns\n",
    "    df.drop(columns=['Percentage','Total Household Population'], inplace=True)\n",
    "\n",
    "    \n",
    "\n",
    "    # Change index and transpose table\n",
    "    df.set_index('Label', inplace=True)\n",
    "    df = df.T\n",
    "\n",
    "    # Change index to year\n",
    "    df.index = [year]\n",
    "\n",
    "    return df\n"
   ]
  },
  {
   "cell_type": "code",
   "execution_count": 16,
   "metadata": {},
   "outputs": [
    {
     "data": {
      "text/html": [
       "<div>\n",
       "<style scoped>\n",
       "    .dataframe tbody tr th:only-of-type {\n",
       "        vertical-align: middle;\n",
       "    }\n",
       "\n",
       "    .dataframe tbody tr th {\n",
       "        vertical-align: top;\n",
       "    }\n",
       "\n",
       "    .dataframe thead th {\n",
       "        text-align: right;\n",
       "    }\n",
       "</style>\n",
       "<table border=\"1\" class=\"dataframe\">\n",
       "  <thead>\n",
       "    <tr style=\"text-align: right;\">\n",
       "      <th>Label</th>\n",
       "      <th>All families</th>\n",
       "      <th>With related children of the householder under 18 years</th>\n",
       "      <th>Married-couple family</th>\n",
       "      <th>With related children of the householder under 18 years</th>\n",
       "      <th>Female householder, no spouse present, family</th>\n",
       "      <th>With related children of the householder under 18 years</th>\n",
       "      <th>All people</th>\n",
       "      <th>Under 18 years</th>\n",
       "      <th>Related children of the householder under 18 years</th>\n",
       "      <th>Related children of the householder under 5 years</th>\n",
       "      <th>Related children of the householder 5 to 17 years</th>\n",
       "      <th>18 years and over</th>\n",
       "      <th>18 to 64 years</th>\n",
       "      <th>65 years and over</th>\n",
       "      <th>People in families</th>\n",
       "      <th>Unrelated individuals 15 years and over</th>\n",
       "    </tr>\n",
       "  </thead>\n",
       "  <tbody>\n",
       "    <tr>\n",
       "      <th>2022</th>\n",
       "      <td>1738.26</td>\n",
       "      <td>2446.44</td>\n",
       "      <td>965.7</td>\n",
       "      <td>1094.46</td>\n",
       "      <td>3251.19</td>\n",
       "      <td>3862.8</td>\n",
       "      <td>2349.87</td>\n",
       "      <td>3025.86</td>\n",
       "      <td>3025.86</td>\n",
       "      <td>5182.59</td>\n",
       "      <td>2349.87</td>\n",
       "      <td>2188.92</td>\n",
       "      <td>1995.78</td>\n",
       "      <td>2800.53</td>\n",
       "      <td>1802.64</td>\n",
       "      <td>5407.92</td>\n",
       "    </tr>\n",
       "  </tbody>\n",
       "</table>\n",
       "</div>"
      ],
      "text/plain": [
       "Label  All families  With related children of the householder under 18 years  \\\n",
       "2022        1738.26                                            2446.44         \n",
       "\n",
       "Label  Married-couple family  \\\n",
       "2022                   965.7   \n",
       "\n",
       "Label  With related children of the householder under 18 years  \\\n",
       "2022                                             1094.46         \n",
       "\n",
       "Label  Female householder, no spouse present, family  \\\n",
       "2022                                         3251.19   \n",
       "\n",
       "Label  With related children of the householder under 18 years  All people  \\\n",
       "2022                                              3862.8           2349.87   \n",
       "\n",
       "Label  Under 18 years  Related children of the householder under 18 years  \\\n",
       "2022          3025.86                                            3025.86    \n",
       "\n",
       "Label  Related children of the householder under 5 years  \\\n",
       "2022                                             5182.59   \n",
       "\n",
       "Label  Related children of the householder 5 to 17 years  18 years and over  \\\n",
       "2022                                             2349.87            2188.92   \n",
       "\n",
       "Label  18 to 64 years  65 years and over  People in families  \\\n",
       "2022          1995.78            2800.53             1802.64   \n",
       "\n",
       "Label  Unrelated individuals 15 years and over  \n",
       "2022                                   5407.92  "
      ]
     },
     "execution_count": 16,
     "metadata": {},
     "output_type": "execute_result"
    }
   ],
   "source": [
    "poverty_rates('data/2022/POVERTY_RATES_FOR_FAMILIES_AND_PEOPLE_FOR_WHOM_POVERTY_STATUS_IS_DETERMINED.CSV','data/2022/HOUSEHOLDS_BY_TYPE.csv',2022)"
   ]
  },
  {
   "cell_type": "code",
   "execution_count": null,
   "metadata": {},
   "outputs": [],
   "source": [
    "def concat_data():\n",
    "    years = [2010,2011,2012,2013,2014,2015,2016,2017,2018,2019,2020,2021,2022]\n",
    "    df_list=[]\n",
    "    for year in range(len(years)):\n",
    "        try:\n",
    "            df_list.append(worker_class(f'data/{years[year]}/CLASS_OF_WORKER.CSV',years[year]))\n",
    "        except: \n",
    "            continue\n",
    "    df= pd.concat(df_list)\n",
    "    df.reset_index(inplace=True)\n",
    "    df.rename(columns={'index':'Year'}, inplace=True)\n",
    "    return df\n",
    "    "
   ]
  },
  {
   "cell_type": "code",
   "execution_count": null,
   "metadata": {},
   "outputs": [],
   "source": [
    "CLASS_OF_WORKER = concat_data()\n",
    "CLASS_OF_WORKER"
   ]
  },
  {
   "cell_type": "code",
   "execution_count": null,
   "metadata": {},
   "outputs": [],
   "source": [
    "CLASS_OF_WORKER.to_csv('data/final/CLASS_OF_WORKER.CSV', index=False)"
   ]
  }
 ],
 "metadata": {
  "kernelspec": {
   "display_name": "Python 3",
   "language": "python",
   "name": "python3"
  },
  "language_info": {
   "codemirror_mode": {
    "name": "ipython",
    "version": 3
   },
   "file_extension": ".py",
   "mimetype": "text/x-python",
   "name": "python",
   "nbconvert_exporter": "python",
   "pygments_lexer": "ipython3",
   "version": "3.11.2"
  }
 },
 "nbformat": 4,
 "nbformat_minor": 2
}
