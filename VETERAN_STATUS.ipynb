{
 "cells": [
  {
   "cell_type": "markdown",
   "metadata": {},
   "source": [
    "# Veteran Status Script\n",
    "Run all of these code blocks in order to create the VETERAN_STATUS data table."
   ]
  },
  {
   "cell_type": "markdown",
   "metadata": {},
   "source": [
    "### Import Statements"
   ]
  },
  {
   "cell_type": "code",
   "execution_count": 3,
   "metadata": {},
   "outputs": [],
   "source": [
    "import pandas as pd\n",
    "import warnings\n",
    "warnings.filterwarnings('ignore')"
   ]
  },
  {
   "cell_type": "markdown",
   "metadata": {},
   "source": [
    "### Function to create row for each year"
   ]
  },
  {
   "cell_type": "code",
   "execution_count": 4,
   "metadata": {},
   "outputs": [],
   "source": [
    "def veteran(file,year):\n",
    "    # Read in file\n",
    "    df = pd.read_csv(file)\n",
    "\n",
    "    # Get rid of spaces in Labels\n",
    "    df['Label'] = df['Label'].apply(lambda x: x.lstrip())\n",
    "\n",
    "    # Convert percentage estimates to float\n",
    "    df['Percentage'] = df['Estimate'].apply(lambda x: float(x.rstrip('%'))/100 if '%' in x else None)\n",
    "\n",
    "    # Move Total Civilian Population 18+ from row to column\n",
    "    df['Total Civilian Population 18+'] = int(df.iloc[0]['Estimate'].replace(',',''))\n",
    "    df.dropna(inplace=True)\n",
    "\n",
    "    # Drop unnecessary columns\n",
    "    df.drop(columns=['Estimate','Margin of Error'], inplace=True)\n",
    "\n",
    "    # Calculate population estimates\n",
    "    df['Veteran Population Estimate'] = df['Percentage']*df['Total Civilian Population 18+']\n",
    "\n",
    "    # Drop unnecessary columns\n",
    "    df.drop(columns=['Percentage'], inplace=True)\n",
    "\n",
    "    # Change Label to Year\n",
    "    df['Label'] = year\n",
    "    df.rename(columns={'Label':'year'}, inplace=True)\n",
    "\n",
    "    # Rename all columns with abbreviated underscored naming conventions\n",
    "    df.rename(columns={'Total Civilian Population 18+':'total_civ_pop_18_plus', 'Veteran Population Estimate':'vets'}, inplace=True)\n",
    "\n",
    "    # Rearrange columns\n",
    "    df = df[['year','vets','total_civ_pop_18_plus']]\n",
    "\n",
    "    return df"
   ]
  },
  {
   "cell_type": "markdown",
   "metadata": {},
   "source": [
    "### Test that function works"
   ]
  },
  {
   "cell_type": "code",
   "execution_count": 5,
   "metadata": {},
   "outputs": [
    {
     "data": {
      "text/html": [
       "<div>\n",
       "<style scoped>\n",
       "    .dataframe tbody tr th:only-of-type {\n",
       "        vertical-align: middle;\n",
       "    }\n",
       "\n",
       "    .dataframe tbody tr th {\n",
       "        vertical-align: top;\n",
       "    }\n",
       "\n",
       "    .dataframe thead th {\n",
       "        text-align: right;\n",
       "    }\n",
       "</style>\n",
       "<table border=\"1\" class=\"dataframe\">\n",
       "  <thead>\n",
       "    <tr style=\"text-align: right;\">\n",
       "      <th></th>\n",
       "      <th>year</th>\n",
       "      <th>vets</th>\n",
       "      <th>total_civ_pop_18_plus</th>\n",
       "    </tr>\n",
       "  </thead>\n",
       "  <tbody>\n",
       "    <tr>\n",
       "      <th>1</th>\n",
       "      <td>2015</td>\n",
       "      <td>767.088</td>\n",
       "      <td>63924</td>\n",
       "    </tr>\n",
       "  </tbody>\n",
       "</table>\n",
       "</div>"
      ],
      "text/plain": [
       "   year     vets  total_civ_pop_18_plus\n",
       "1  2015  767.088                  63924"
      ]
     },
     "execution_count": 5,
     "metadata": {},
     "output_type": "execute_result"
    }
   ],
   "source": [
    "veteran('data/2015/VETERAN_STATUS.CSV', 2015)"
   ]
  },
  {
   "cell_type": "markdown",
   "metadata": {},
   "source": [
    "### Test that function works for each year\n",
    "Should return only \"No file for year '2020'\""
   ]
  },
  {
   "cell_type": "code",
   "execution_count": 6,
   "metadata": {},
   "outputs": [
    {
     "name": "stdout",
     "output_type": "stream",
     "text": [
      "No file for year '2020'\n"
     ]
    }
   ],
   "source": [
    "for year in range(2010,2023):\n",
    "    file = 'data/'+str(year)+'/VETERAN_STATUS.CSV'\n",
    "\n",
    "    try:\n",
    "        veteran(file,year)\n",
    "    except:\n",
    "        print(f\"No file for year '{year}'\")"
   ]
  },
  {
   "cell_type": "markdown",
   "metadata": {},
   "source": [
    "### Run function for each year"
   ]
  },
  {
   "cell_type": "code",
   "execution_count": 7,
   "metadata": {},
   "outputs": [],
   "source": [
    "VETERAN_STATUS_2022 = veteran('data/2022/VETERAN_STATUS.CSV',2022)\n",
    "VETERAN_STATUS_2021 = veteran('data/2021/VETERAN_STATUS.CSV',2021)\n",
    "VETERAN_STATUS_2019 = veteran('data/2019/VETERAN_STATUS.CSV',2019)\n",
    "VETERAN_STATUS_2018 = veteran('data/2018/VETERAN_STATUS.CSV',2018)\n",
    "VETERAN_STATUS_2017 = veteran('data/2017/VETERAN_STATUS.CSV',2017)\n",
    "VETERAN_STATUS_2016 = veteran('data/2016/VETERAN_STATUS.CSV',2016)\n",
    "VETERAN_STATUS_2015 = veteran('data/2015/VETERAN_STATUS.CSV',2015)\n",
    "VETERAN_STATUS_2014 = veteran('data/2014/VETERAN_STATUS.CSV',2014)\n",
    "VETERAN_STATUS_2013 = veteran('data/2013/VETERAN_STATUS.CSV',2013)\n",
    "VETERAN_STATUS_2012 = veteran('data/2012/VETERAN_STATUS.CSV',2012)\n",
    "VETERAN_STATUS_2011 = veteran('data/2011/VETERAN_STATUS.CSV',2011)\n",
    "VETERAN_STATUS_2010 = veteran('data/2010/VETERAN_STATUS.CSV',2010)"
   ]
  },
  {
   "cell_type": "markdown",
   "metadata": {},
   "source": [
    "### Combine each year into single dataframe containing all years"
   ]
  },
  {
   "cell_type": "code",
   "execution_count": 8,
   "metadata": {},
   "outputs": [
    {
     "data": {
      "text/html": [
       "<div>\n",
       "<style scoped>\n",
       "    .dataframe tbody tr th:only-of-type {\n",
       "        vertical-align: middle;\n",
       "    }\n",
       "\n",
       "    .dataframe tbody tr th {\n",
       "        vertical-align: top;\n",
       "    }\n",
       "\n",
       "    .dataframe thead th {\n",
       "        text-align: right;\n",
       "    }\n",
       "</style>\n",
       "<table border=\"1\" class=\"dataframe\">\n",
       "  <thead>\n",
       "    <tr style=\"text-align: right;\">\n",
       "      <th></th>\n",
       "      <th>year</th>\n",
       "      <th>vets</th>\n",
       "      <th>total_civ_pop_18_plus</th>\n",
       "    </tr>\n",
       "  </thead>\n",
       "  <tbody>\n",
       "    <tr>\n",
       "      <th>1</th>\n",
       "      <td>2022</td>\n",
       "      <td>1350.463</td>\n",
       "      <td>71077</td>\n",
       "    </tr>\n",
       "    <tr>\n",
       "      <th>1</th>\n",
       "      <td>2021</td>\n",
       "      <td>1900.125</td>\n",
       "      <td>70375</td>\n",
       "    </tr>\n",
       "    <tr>\n",
       "      <th>1</th>\n",
       "      <td>2019</td>\n",
       "      <td>1571.328</td>\n",
       "      <td>71424</td>\n",
       "    </tr>\n",
       "    <tr>\n",
       "      <th>1</th>\n",
       "      <td>2018</td>\n",
       "      <td>986.874</td>\n",
       "      <td>70491</td>\n",
       "    </tr>\n",
       "    <tr>\n",
       "      <th>1</th>\n",
       "      <td>2017</td>\n",
       "      <td>987.900</td>\n",
       "      <td>65860</td>\n",
       "    </tr>\n",
       "    <tr>\n",
       "      <th>1</th>\n",
       "      <td>2016</td>\n",
       "      <td>1036.881</td>\n",
       "      <td>60993</td>\n",
       "    </tr>\n",
       "    <tr>\n",
       "      <th>1</th>\n",
       "      <td>2015</td>\n",
       "      <td>767.088</td>\n",
       "      <td>63924</td>\n",
       "    </tr>\n",
       "    <tr>\n",
       "      <th>1</th>\n",
       "      <td>2014</td>\n",
       "      <td>1344.399</td>\n",
       "      <td>64019</td>\n",
       "    </tr>\n",
       "    <tr>\n",
       "      <th>1</th>\n",
       "      <td>2013</td>\n",
       "      <td>717.530</td>\n",
       "      <td>65230</td>\n",
       "    </tr>\n",
       "    <tr>\n",
       "      <th>1</th>\n",
       "      <td>2012</td>\n",
       "      <td>1476.528</td>\n",
       "      <td>61522</td>\n",
       "    </tr>\n",
       "    <tr>\n",
       "      <th>1</th>\n",
       "      <td>2011</td>\n",
       "      <td>1594.431</td>\n",
       "      <td>59053</td>\n",
       "    </tr>\n",
       "    <tr>\n",
       "      <th>1</th>\n",
       "      <td>2010</td>\n",
       "      <td>760.565</td>\n",
       "      <td>58505</td>\n",
       "    </tr>\n",
       "  </tbody>\n",
       "</table>\n",
       "</div>"
      ],
      "text/plain": [
       "   year      vets  total_civ_pop_18_plus\n",
       "1  2022  1350.463                  71077\n",
       "1  2021  1900.125                  70375\n",
       "1  2019  1571.328                  71424\n",
       "1  2018   986.874                  70491\n",
       "1  2017   987.900                  65860\n",
       "1  2016  1036.881                  60993\n",
       "1  2015   767.088                  63924\n",
       "1  2014  1344.399                  64019\n",
       "1  2013   717.530                  65230\n",
       "1  2012  1476.528                  61522\n",
       "1  2011  1594.431                  59053\n",
       "1  2010   760.565                  58505"
      ]
     },
     "execution_count": 8,
     "metadata": {},
     "output_type": "execute_result"
    }
   ],
   "source": [
    "VETERAN_STATUS = pd.concat([VETERAN_STATUS_2022,VETERAN_STATUS_2021,VETERAN_STATUS_2019,VETERAN_STATUS_2018,VETERAN_STATUS_2017,VETERAN_STATUS_2016,VETERAN_STATUS_2015,VETERAN_STATUS_2014,VETERAN_STATUS_2013,VETERAN_STATUS_2012,VETERAN_STATUS_2011,VETERAN_STATUS_2010])\n",
    "VETERAN_STATUS"
   ]
  },
  {
   "cell_type": "markdown",
   "metadata": {},
   "source": [
    "### Reset index on combined dataframe"
   ]
  },
  {
   "cell_type": "code",
   "execution_count": 9,
   "metadata": {},
   "outputs": [
    {
     "data": {
      "text/html": [
       "<div>\n",
       "<style scoped>\n",
       "    .dataframe tbody tr th:only-of-type {\n",
       "        vertical-align: middle;\n",
       "    }\n",
       "\n",
       "    .dataframe tbody tr th {\n",
       "        vertical-align: top;\n",
       "    }\n",
       "\n",
       "    .dataframe thead th {\n",
       "        text-align: right;\n",
       "    }\n",
       "</style>\n",
       "<table border=\"1\" class=\"dataframe\">\n",
       "  <thead>\n",
       "    <tr style=\"text-align: right;\">\n",
       "      <th></th>\n",
       "      <th>year</th>\n",
       "      <th>vets</th>\n",
       "      <th>total_civ_pop_18_plus</th>\n",
       "    </tr>\n",
       "  </thead>\n",
       "  <tbody>\n",
       "    <tr>\n",
       "      <th>0</th>\n",
       "      <td>2022</td>\n",
       "      <td>1350.463</td>\n",
       "      <td>71077</td>\n",
       "    </tr>\n",
       "    <tr>\n",
       "      <th>1</th>\n",
       "      <td>2021</td>\n",
       "      <td>1900.125</td>\n",
       "      <td>70375</td>\n",
       "    </tr>\n",
       "    <tr>\n",
       "      <th>2</th>\n",
       "      <td>2019</td>\n",
       "      <td>1571.328</td>\n",
       "      <td>71424</td>\n",
       "    </tr>\n",
       "    <tr>\n",
       "      <th>3</th>\n",
       "      <td>2018</td>\n",
       "      <td>986.874</td>\n",
       "      <td>70491</td>\n",
       "    </tr>\n",
       "    <tr>\n",
       "      <th>4</th>\n",
       "      <td>2017</td>\n",
       "      <td>987.900</td>\n",
       "      <td>65860</td>\n",
       "    </tr>\n",
       "    <tr>\n",
       "      <th>5</th>\n",
       "      <td>2016</td>\n",
       "      <td>1036.881</td>\n",
       "      <td>60993</td>\n",
       "    </tr>\n",
       "    <tr>\n",
       "      <th>6</th>\n",
       "      <td>2015</td>\n",
       "      <td>767.088</td>\n",
       "      <td>63924</td>\n",
       "    </tr>\n",
       "    <tr>\n",
       "      <th>7</th>\n",
       "      <td>2014</td>\n",
       "      <td>1344.399</td>\n",
       "      <td>64019</td>\n",
       "    </tr>\n",
       "    <tr>\n",
       "      <th>8</th>\n",
       "      <td>2013</td>\n",
       "      <td>717.530</td>\n",
       "      <td>65230</td>\n",
       "    </tr>\n",
       "    <tr>\n",
       "      <th>9</th>\n",
       "      <td>2012</td>\n",
       "      <td>1476.528</td>\n",
       "      <td>61522</td>\n",
       "    </tr>\n",
       "    <tr>\n",
       "      <th>10</th>\n",
       "      <td>2011</td>\n",
       "      <td>1594.431</td>\n",
       "      <td>59053</td>\n",
       "    </tr>\n",
       "    <tr>\n",
       "      <th>11</th>\n",
       "      <td>2010</td>\n",
       "      <td>760.565</td>\n",
       "      <td>58505</td>\n",
       "    </tr>\n",
       "  </tbody>\n",
       "</table>\n",
       "</div>"
      ],
      "text/plain": [
       "    year      vets  total_civ_pop_18_plus\n",
       "0   2022  1350.463                  71077\n",
       "1   2021  1900.125                  70375\n",
       "2   2019  1571.328                  71424\n",
       "3   2018   986.874                  70491\n",
       "4   2017   987.900                  65860\n",
       "5   2016  1036.881                  60993\n",
       "6   2015   767.088                  63924\n",
       "7   2014  1344.399                  64019\n",
       "8   2013   717.530                  65230\n",
       "9   2012  1476.528                  61522\n",
       "10  2011  1594.431                  59053\n",
       "11  2010   760.565                  58505"
      ]
     },
     "execution_count": 9,
     "metadata": {},
     "output_type": "execute_result"
    }
   ],
   "source": [
    "VETERAN_STATUS.reset_index(inplace=True)\n",
    "VETERAN_STATUS.drop(columns=['index'], inplace=True)\n",
    "VETERAN_STATUS"
   ]
  },
  {
   "cell_type": "markdown",
   "metadata": {},
   "source": [
    "### Save final dataframe as CSV to 'final' folder in 'data' folder"
   ]
  },
  {
   "cell_type": "code",
   "execution_count": 10,
   "metadata": {},
   "outputs": [],
   "source": [
    "VETERAN_STATUS.to_csv('data/final/VETERAN_STATUS.CSV', index=False)"
   ]
  },
  {
   "cell_type": "markdown",
   "metadata": {},
   "source": [
    "### Check that dataframe was saved properly as CSV"
   ]
  },
  {
   "cell_type": "code",
   "execution_count": 11,
   "metadata": {},
   "outputs": [
    {
     "data": {
      "text/html": [
       "<div>\n",
       "<style scoped>\n",
       "    .dataframe tbody tr th:only-of-type {\n",
       "        vertical-align: middle;\n",
       "    }\n",
       "\n",
       "    .dataframe tbody tr th {\n",
       "        vertical-align: top;\n",
       "    }\n",
       "\n",
       "    .dataframe thead th {\n",
       "        text-align: right;\n",
       "    }\n",
       "</style>\n",
       "<table border=\"1\" class=\"dataframe\">\n",
       "  <thead>\n",
       "    <tr style=\"text-align: right;\">\n",
       "      <th></th>\n",
       "      <th>year</th>\n",
       "      <th>vets</th>\n",
       "      <th>total_civ_pop_18_plus</th>\n",
       "    </tr>\n",
       "  </thead>\n",
       "  <tbody>\n",
       "    <tr>\n",
       "      <th>0</th>\n",
       "      <td>2022</td>\n",
       "      <td>1350.463</td>\n",
       "      <td>71077</td>\n",
       "    </tr>\n",
       "    <tr>\n",
       "      <th>1</th>\n",
       "      <td>2021</td>\n",
       "      <td>1900.125</td>\n",
       "      <td>70375</td>\n",
       "    </tr>\n",
       "    <tr>\n",
       "      <th>2</th>\n",
       "      <td>2019</td>\n",
       "      <td>1571.328</td>\n",
       "      <td>71424</td>\n",
       "    </tr>\n",
       "    <tr>\n",
       "      <th>3</th>\n",
       "      <td>2018</td>\n",
       "      <td>986.874</td>\n",
       "      <td>70491</td>\n",
       "    </tr>\n",
       "    <tr>\n",
       "      <th>4</th>\n",
       "      <td>2017</td>\n",
       "      <td>987.900</td>\n",
       "      <td>65860</td>\n",
       "    </tr>\n",
       "    <tr>\n",
       "      <th>5</th>\n",
       "      <td>2016</td>\n",
       "      <td>1036.881</td>\n",
       "      <td>60993</td>\n",
       "    </tr>\n",
       "    <tr>\n",
       "      <th>6</th>\n",
       "      <td>2015</td>\n",
       "      <td>767.088</td>\n",
       "      <td>63924</td>\n",
       "    </tr>\n",
       "    <tr>\n",
       "      <th>7</th>\n",
       "      <td>2014</td>\n",
       "      <td>1344.399</td>\n",
       "      <td>64019</td>\n",
       "    </tr>\n",
       "    <tr>\n",
       "      <th>8</th>\n",
       "      <td>2013</td>\n",
       "      <td>717.530</td>\n",
       "      <td>65230</td>\n",
       "    </tr>\n",
       "    <tr>\n",
       "      <th>9</th>\n",
       "      <td>2012</td>\n",
       "      <td>1476.528</td>\n",
       "      <td>61522</td>\n",
       "    </tr>\n",
       "    <tr>\n",
       "      <th>10</th>\n",
       "      <td>2011</td>\n",
       "      <td>1594.431</td>\n",
       "      <td>59053</td>\n",
       "    </tr>\n",
       "    <tr>\n",
       "      <th>11</th>\n",
       "      <td>2010</td>\n",
       "      <td>760.565</td>\n",
       "      <td>58505</td>\n",
       "    </tr>\n",
       "  </tbody>\n",
       "</table>\n",
       "</div>"
      ],
      "text/plain": [
       "    year      vets  total_civ_pop_18_plus\n",
       "0   2022  1350.463                  71077\n",
       "1   2021  1900.125                  70375\n",
       "2   2019  1571.328                  71424\n",
       "3   2018   986.874                  70491\n",
       "4   2017   987.900                  65860\n",
       "5   2016  1036.881                  60993\n",
       "6   2015   767.088                  63924\n",
       "7   2014  1344.399                  64019\n",
       "8   2013   717.530                  65230\n",
       "9   2012  1476.528                  61522\n",
       "10  2011  1594.431                  59053\n",
       "11  2010   760.565                  58505"
      ]
     },
     "execution_count": 11,
     "metadata": {},
     "output_type": "execute_result"
    }
   ],
   "source": [
    "df = pd.read_csv('data/final/VETERAN_STATUS.CSV')\n",
    "df"
   ]
  }
 ],
 "metadata": {
  "kernelspec": {
   "display_name": "Python 3",
   "language": "python",
   "name": "python3"
  },
  "language_info": {
   "codemirror_mode": {
    "name": "ipython",
    "version": 3
   },
   "file_extension": ".py",
   "mimetype": "text/x-python",
   "name": "python",
   "nbconvert_exporter": "python",
   "pygments_lexer": "ipython3",
   "version": "3.11.5"
  }
 },
 "nbformat": 4,
 "nbformat_minor": 2
}
